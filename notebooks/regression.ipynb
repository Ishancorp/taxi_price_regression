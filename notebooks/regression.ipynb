{
 "cells": [
  {
   "cell_type": "markdown",
   "metadata": {},
   "source": [
    "# Regression"
   ]
  },
  {
   "cell_type": "markdown",
   "metadata": {},
   "source": [
    "By Ishan Sharma"
   ]
  },
  {
   "cell_type": "code",
   "execution_count": 1,
   "metadata": {},
   "outputs": [],
   "source": [
    "import pandas as pd\n",
    "import matplotlib.pyplot as plt"
   ]
  },
  {
   "cell_type": "code",
   "execution_count": 2,
   "metadata": {},
   "outputs": [],
   "source": [
    "taxi_trip_df = pd.read_csv(\"../data/taxi_trip_pricing.csv\")"
   ]
  },
  {
   "cell_type": "code",
   "execution_count": 3,
   "metadata": {},
   "outputs": [],
   "source": [
    "from sklearn.model_selection import train_test_split\n",
    "from sklearn.linear_model import LinearRegression"
   ]
  },
  {
   "cell_type": "markdown",
   "metadata": {},
   "source": [
    "Before I proceed, I shall have to drop the nans for the target column, as I cannot target something if it is nan"
   ]
  },
  {
   "cell_type": "code",
   "execution_count": 4,
   "metadata": {},
   "outputs": [],
   "source": [
    "taxi_trip_df.dropna(subset=['Trip_Price'], inplace=True)"
   ]
  },
  {
   "cell_type": "code",
   "execution_count": 5,
   "metadata": {},
   "outputs": [],
   "source": [
    "X = pd.get_dummies(taxi_trip_df[[\"Time_of_Day\", \"Day_of_Week\", \"Traffic_Conditions\", \"Weather\"]], dtype=int)"
   ]
  },
  {
   "cell_type": "code",
   "execution_count": 6,
   "metadata": {},
   "outputs": [],
   "source": [
    "X[\"Base_Fare\"] = taxi_trip_df[\"Base_Fare\"].fillna(value=taxi_trip_df[\"Base_Fare\"].median())"
   ]
  },
  {
   "cell_type": "code",
   "execution_count": 7,
   "metadata": {},
   "outputs": [],
   "source": [
    "X[\"Per_Km_Rate\"] = taxi_trip_df[\"Per_Km_Rate\"].fillna(value=taxi_trip_df[\"Per_Km_Rate\"].median())"
   ]
  },
  {
   "cell_type": "code",
   "execution_count": 8,
   "metadata": {},
   "outputs": [],
   "source": [
    "X[\"Per_Minute_Rate\"] = taxi_trip_df[\"Per_Minute_Rate\"].fillna(value=taxi_trip_df[\"Per_Minute_Rate\"].median())"
   ]
  },
  {
   "cell_type": "code",
   "execution_count": 9,
   "metadata": {},
   "outputs": [],
   "source": [
    "X[\"Trip_Duration_Minutes\"] = taxi_trip_df[\"Trip_Duration_Minutes\"].fillna(value=taxi_trip_df[\"Trip_Duration_Minutes\"].median())"
   ]
  },
  {
   "cell_type": "code",
   "execution_count": 10,
   "metadata": {},
   "outputs": [],
   "source": [
    "X[\"Trip_Distance_km\"] = taxi_trip_df[\"Trip_Distance_km\"].fillna(value=taxi_trip_df[\"Trip_Distance_km\"].median())"
   ]
  },
  {
   "cell_type": "code",
   "execution_count": 11,
   "metadata": {},
   "outputs": [],
   "source": [
    "y = taxi_trip_df[\"Trip_Price\"]"
   ]
  },
  {
   "cell_type": "code",
   "execution_count": 12,
   "metadata": {},
   "outputs": [
    {
     "name": "stdout",
     "output_type": "stream",
     "text": [
      "Train score 0.8757081513259299, test score 0.843433621202043\n"
     ]
    }
   ],
   "source": [
    "X_train, X_test, y_train, y_test = train_test_split(X, y, test_size=.33, random_state=1337)\n",
    "LR = LinearRegression()\n",
    "LR.fit(X_train, y_train)\n",
    "train_score = LR.score(X_train, y_train)\n",
    "test_score = LR.score(X_test, y_test)\n",
    "print(f'Train score {train_score}, test score {test_score}')"
   ]
  },
  {
   "cell_type": "markdown",
   "metadata": {},
   "source": [
    "This is a pretty good model. "
   ]
  },
  {
   "cell_type": "code",
   "execution_count": 19,
   "metadata": {},
   "outputs": [
    {
     "data": {
      "text/html": [
       "<div>\n",
       "<style scoped>\n",
       "    .dataframe tbody tr th:only-of-type {\n",
       "        vertical-align: middle;\n",
       "    }\n",
       "\n",
       "    .dataframe tbody tr th {\n",
       "        vertical-align: top;\n",
       "    }\n",
       "\n",
       "    .dataframe thead th {\n",
       "        text-align: right;\n",
       "    }\n",
       "</style>\n",
       "<table border=\"1\" class=\"dataframe\">\n",
       "  <thead>\n",
       "    <tr style=\"text-align: right;\">\n",
       "      <th></th>\n",
       "      <th>0</th>\n",
       "      <th>0</th>\n",
       "    </tr>\n",
       "  </thead>\n",
       "  <tbody>\n",
       "    <tr>\n",
       "      <th>0</th>\n",
       "      <td>Time_of_Day_Afternoon</td>\n",
       "      <td>-1.886811</td>\n",
       "    </tr>\n",
       "    <tr>\n",
       "      <th>1</th>\n",
       "      <td>Time_of_Day_Evening</td>\n",
       "      <td>-2.977867</td>\n",
       "    </tr>\n",
       "    <tr>\n",
       "      <th>2</th>\n",
       "      <td>Time_of_Day_Morning</td>\n",
       "      <td>-2.236602</td>\n",
       "    </tr>\n",
       "    <tr>\n",
       "      <th>3</th>\n",
       "      <td>Time_of_Day_Night</td>\n",
       "      <td>-3.265308</td>\n",
       "    </tr>\n",
       "    <tr>\n",
       "      <th>4</th>\n",
       "      <td>Day_of_Week_Weekday</td>\n",
       "      <td>-1.787519</td>\n",
       "    </tr>\n",
       "    <tr>\n",
       "      <th>5</th>\n",
       "      <td>Day_of_Week_Weekend</td>\n",
       "      <td>-1.861816</td>\n",
       "    </tr>\n",
       "    <tr>\n",
       "      <th>6</th>\n",
       "      <td>Traffic_Conditions_High</td>\n",
       "      <td>-2.341083</td>\n",
       "    </tr>\n",
       "    <tr>\n",
       "      <th>7</th>\n",
       "      <td>Traffic_Conditions_Low</td>\n",
       "      <td>-2.255336</td>\n",
       "    </tr>\n",
       "    <tr>\n",
       "      <th>8</th>\n",
       "      <td>Traffic_Conditions_Medium</td>\n",
       "      <td>-2.442432</td>\n",
       "    </tr>\n",
       "    <tr>\n",
       "      <th>9</th>\n",
       "      <td>Weather_Clear</td>\n",
       "      <td>1.265286</td>\n",
       "    </tr>\n",
       "    <tr>\n",
       "      <th>10</th>\n",
       "      <td>Weather_Rain</td>\n",
       "      <td>1.204347</td>\n",
       "    </tr>\n",
       "    <tr>\n",
       "      <th>11</th>\n",
       "      <td>Weather_Snow</td>\n",
       "      <td>5.895151</td>\n",
       "    </tr>\n",
       "    <tr>\n",
       "      <th>12</th>\n",
       "      <td>Base_Fare</td>\n",
       "      <td>0.936819</td>\n",
       "    </tr>\n",
       "    <tr>\n",
       "      <th>13</th>\n",
       "      <td>Per_Km_Rate</td>\n",
       "      <td>24.192633</td>\n",
       "    </tr>\n",
       "    <tr>\n",
       "      <th>14</th>\n",
       "      <td>Per_Minute_Rate</td>\n",
       "      <td>57.727301</td>\n",
       "    </tr>\n",
       "    <tr>\n",
       "      <th>15</th>\n",
       "      <td>Trip_Duration_Minutes</td>\n",
       "      <td>0.302297</td>\n",
       "    </tr>\n",
       "    <tr>\n",
       "      <th>16</th>\n",
       "      <td>Trip_Distance_km</td>\n",
       "      <td>1.677901</td>\n",
       "    </tr>\n",
       "  </tbody>\n",
       "</table>\n",
       "</div>"
      ],
      "text/plain": [
       "                            0          0\n",
       "0       Time_of_Day_Afternoon  -1.886811\n",
       "1         Time_of_Day_Evening  -2.977867\n",
       "2         Time_of_Day_Morning  -2.236602\n",
       "3           Time_of_Day_Night  -3.265308\n",
       "4         Day_of_Week_Weekday  -1.787519\n",
       "5         Day_of_Week_Weekend  -1.861816\n",
       "6     Traffic_Conditions_High  -2.341083\n",
       "7      Traffic_Conditions_Low  -2.255336\n",
       "8   Traffic_Conditions_Medium  -2.442432\n",
       "9               Weather_Clear   1.265286\n",
       "10               Weather_Rain   1.204347\n",
       "11               Weather_Snow   5.895151\n",
       "12                  Base_Fare   0.936819\n",
       "13                Per_Km_Rate  24.192633\n",
       "14            Per_Minute_Rate  57.727301\n",
       "15      Trip_Duration_Minutes   0.302297\n",
       "16           Trip_Distance_km   1.677901"
      ]
     },
     "execution_count": 19,
     "metadata": {},
     "output_type": "execute_result"
    }
   ],
   "source": [
    "pd.concat([pd.DataFrame(X.columns), pd.DataFrame(LR.coef_)], axis=1)"
   ]
  },
  {
   "cell_type": "markdown",
   "metadata": {},
   "source": [
    "The model is: \n",
    "\n",
    "$y = -1.886811 y_{TimeOfDayAfternoon} - 2.977867 y_{TimeOfDayEvening} - 2.236602 y_{TimeOfDayMorning} - 3.265308 y_{TimeOfDayNight} - 1.787519 y_{DayOfWeekWeekday} - 1.861816 y_{DayOfWeekWeekend} - 2.341083 y_{TrafficConditionsHigh} - 2.255336 y_{TrafficConditionsLow} - 2.442432 y_{TrafficConditionsMedium} + 1.265286 y_{WeatherClear} + 1.204347 y_{WeatherRain} + 5.895151 y_{WeatherSnow} + 0.936819 y_{BaseFare} + 24.192633 y_{PerKmRate} + 57.727301 y_{PerMinuteRate} + 0.302297 y_{TripDurationMinutes} + 1.677901 y_{TripDistancekm}$"
   ]
  }
 ],
 "metadata": {
  "kernelspec": {
   "display_name": "base",
   "language": "python",
   "name": "python3"
  },
  "language_info": {
   "codemirror_mode": {
    "name": "ipython",
    "version": 3
   },
   "file_extension": ".py",
   "mimetype": "text/x-python",
   "name": "python",
   "nbconvert_exporter": "python",
   "pygments_lexer": "ipython3",
   "version": "3.12.4"
  }
 },
 "nbformat": 4,
 "nbformat_minor": 2
}
